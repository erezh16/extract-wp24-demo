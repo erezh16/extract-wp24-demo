{
 "cells": [
  {
   "attachments": {},
   "cell_type": "markdown",
   "metadata": {},
   "source": [
    "# EXTRACT Joint Demonstrator WP2+WP4\n",
    "## Propagate Inference Data Over Data Catalog and SkyStore - Consumer Notebook"
   ]
  },
  {
   "cell_type": "markdown",
   "metadata": {},
   "source": [
    "### Set import path and import libraries"
   ]
  },
  {
   "cell_type": "code",
   "execution_count": null,
   "metadata": {},
   "outputs": [],
   "source": [
    "import sys\n",
    "import os\n",
    "\n",
    "# Adjust this path to point to the directory containing your local package\n",
    "project_root = os.path.abspath(os.path.join(os.getcwd(), \"..\"))  # or another relative path\n",
    "if project_root not in sys.path:\n",
    "    sys.path.insert(0, project_root)\n"
   ]
  },
  {
   "cell_type": "code",
   "execution_count": null,
   "metadata": {},
   "outputs": [],
   "source": [
    "import torch\n",
    "import json\n",
    "import requests\n",
    "import json\n",
    "import numpy as np\n",
    "import boto3\n",
    "import io\n",
    "from botocore.config import Config\n",
    "from catalogue.consumer import DataConsumer\n",
    "from nuvla.api import Api as Nuvla\n",
    "from dotenv import load_dotenv\n",
    "from pathlib import Path\n",
    "from pprint import pprint"
   ]
  },
  {
   "cell_type": "markdown",
   "metadata": {},
   "source": [
    "### Load environment variables from .env"
   ]
  },
  {
   "cell_type": "code",
   "execution_count": null,
   "metadata": {},
   "outputs": [],
   "source": [
    "env_path = Path('..') / '.env'\n",
    "load_dotenv(dotenv_path=env_path)\n"
   ]
  },
  {
   "cell_type": "markdown",
   "metadata": {},
   "source": [
    "### Function for parsin notification data"
   ]
  },
  {
   "cell_type": "code",
   "execution_count": null,
   "metadata": {},
   "outputs": [],
   "source": [
    "def get_relevant_data(msg: dict) -> [str, str, str]:\n",
    "    bucket = msg.get(\"data-object\", {}).get(\"bucket\", \"\")\n",
    "    file_name = msg.get(\"data-object\", {}).get(\"object\", \"\")\n",
    "    uri = msg.get(\"link\", {}).get(\"uri\", \"\")\n",
    "    print(f\"Bucket: {bucket}\")\n",
    "    print(f\"File Name: {file_name}\")\n",
    "    print(f\"Download Link: {uri}\")\n",
    "    return bucket, file_name, uri\n"
   ]
  },
  {
   "cell_type": "code",
   "execution_count": null,
   "metadata": {},
   "outputs": [],
   "source": [
    "# Nuvla access\n",
    "NUVLA_ENDPOINT = os.getenv(\"NUVLA_ENDPOINT\", \"https://nuvla.io\")\n",
    "NUVLA_KEY = os.getenv(\"NUVLA_KEY\", \"\")\n",
    "NUVLA_KEY_SECRET = os.getenv(\"NUVLA_SECRET\", \"\")\n",
    "\n",
    "# MQTT Configuration for DMF Data Catalog\n",
    "TOPIC = os.getenv(\"MQTT_TOPIC\", \"test-topic\")\n",
    "MQTT_BROKER: str = os.getenv(\"MQTT_BROKER\", \"91.134.104.104\")\n",
    "MQTT_PORT: int = int(os.getenv(\"MQTT_PORT\", 1883))\n"
   ]
  },
  {
   "cell_type": "markdown",
   "metadata": {},
   "source": [
    "### Connect to Nuvla and wait for DMF notification (MQTT)"
   ]
  },
  {
   "cell_type": "code",
   "execution_count": null,
   "metadata": {},
   "outputs": [],
   "source": [
    "nuvla: Nuvla = Nuvla(endpoint=NUVLA_ENDPOINT, insecure=False)\n",
    "resp = nuvla.login_apikey(NUVLA_KEY, NUVLA_KEY_SECRET)\n",
    "if not resp or resp.status_code != 201:\n",
    "    pprint(\"Failed to login to Nuvla. Please check your credentials.\")\n",
    "    pprint(resp.content)\n",
    "    exit(1)\n",
    "consumer: DataConsumer = DataConsumer(\n",
    "    nuvla=nuvla,\n",
    "    topic=TOPIC,\n",
    "    host=MQTT_BROKER,\n",
    "    port=MQTT_PORT\n",
    ")\n",
    "\n",
    "consumer.listen()\n",
    "\n",
    "msg = consumer.link_queue.get()\n"
   ]
  },
  {
   "cell_type": "markdown",
   "metadata": {},
   "source": [
    "### Load inference data based on S3 info from notification"
   ]
  },
  {
   "cell_type": "code",
   "execution_count": null,
   "metadata": {},
   "outputs": [],
   "source": [
    "# Parse notification for S3 info\n",
    "bucket_name, key, download_link = get_relevant_data(msg)\n",
    "\n",
    "# Set up S3 client for S3-Proxy #2\n",
    "s3 = boto3.client(\n",
    "    's3',\n",
    "    endpoint_url=os.getenv(\"S3_ENDPOINT\"),\n",
    "    aws_access_key_id=os.getenv(\"ACCESS_KEY\"),\n",
    "    aws_secret_access_key=os.getenv(\"SECRET_KEY\"),\n",
    ")\n",
    "\n",
    "# Get the object from S3\n",
    "response = s3.get_object(Bucket=bucket_name, Key=key)\n",
    "\n",
    "# Read binary stream and load with torch\n",
    "buffer = io.BytesIO(response['Body'].read())\n",
    "array = torch.load(buffer, map_location='cpu')  # or 'cuda' if needed\n"
   ]
  },
  {
   "cell_type": "markdown",
   "metadata": {},
   "source": [
    "### Prepare inference request"
   ]
  },
  {
   "cell_type": "code",
   "execution_count": null,
   "metadata": {},
   "outputs": [],
   "source": [
    "# Create request message to be sent to the predictor\n",
    "message_data = {}\n",
    "inputs = {}\n",
    "message_data[\"inputs\"] = []\n",
    "inputs[\"name\"]=\"input1\"\n",
    "inputs[\"shape\"] = array.shape\n",
    "inputs[\"datatype\"]=\"FP32\" # as the given per model expects float32\n",
    "inputs[\"data\"]=array.tolist()\n",
    "message_data[\"inputs\"].append(inputs)"
   ]
  },
  {
   "cell_type": "markdown",
   "metadata": {},
   "source": [
    "### Invoke inference service with request"
   ]
  },
  {
   "cell_type": "code",
   "execution_count": null,
   "metadata": {},
   "outputs": [],
   "source": [
    "# Call predictor\n",
    "\n",
    "service_hostname=os.getenv(\"SERVICE_HOSTNAME\")\n",
    "model_name=os.getenv(\"MODEL_NAME\")\n",
    "ingress_ip=os.getenv(\"INGRESS_IP\")\n",
    "ingress_port=os.getenv(\"INGRESS_PORT\")\n",
    "predictor_url = f\"http://{ingress_ip}:{ingress_port}/v2/models/{model_name}/infer\"\n",
    "print(f\"Accessing URL: {predictor_url}\")\n",
    "request_headers = {\n",
    "    \"Content-Type\": \"application/json\",\n",
    "    \"Accept\": \"application/json\",\n",
    "    \"Host\": service_hostname,\n",
    "}\n",
    "response = requests.post(predictor_url, headers=request_headers, data=json.dumps(message_data))"
   ]
  },
  {
   "cell_type": "markdown",
   "metadata": {},
   "source": [
    "### Parse inference response and print result"
   ]
  },
  {
   "cell_type": "code",
   "execution_count": null,
   "metadata": {},
   "outputs": [],
   "source": [
    "response_message = json.loads(response.text)\n",
    "output1 = np.array(response_message[\"outputs\"][0]['data'], dtype=np.float32)\n",
    "# Print result\n",
    "print(output1)"
   ]
  }
 ],
 "metadata": {
  "kernelspec": {
   "display_name": "extract-demo",
   "language": "python",
   "name": "python3"
  },
  "language_info": {
   "codemirror_mode": {
    "name": "ipython",
    "version": 3
   },
   "file_extension": ".py",
   "mimetype": "text/x-python",
   "name": "python",
   "nbconvert_exporter": "python",
   "pygments_lexer": "ipython3",
   "version": "3.12.9"
  }
 },
 "nbformat": 4,
 "nbformat_minor": 4
}
